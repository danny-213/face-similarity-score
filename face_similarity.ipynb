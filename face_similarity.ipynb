{
 "cells": [
  {
   "cell_type": "markdown",
   "metadata": {},
   "source": [
    "## LOADING LIBRARIES & DATA\n"
   ]
  },
  {
   "cell_type": "code",
   "execution_count": 182,
   "metadata": {},
   "outputs": [],
   "source": [
    "import pandas as pd\n",
    "import seaborn as sns\n",
    "import matplotlib.pyplot as plt\n",
    "import numpy as np\n",
    "\n",
    "#Read the datasets\n",
    "face_similarity_df = pd.read_parquet('face_similarity_scores.parquet', engine='pyarrow')\n",
    "# face_similarity_df.to_csv('face_similarity_scores.csv')\n",
    "label_df = pd.read_parquet('label_same_person.parquet', engine='pyarrow')\n",
    "# label_df.to_csv('label_df.csv')"
   ]
  },
  {
   "cell_type": "markdown",
   "metadata": {},
   "source": [
    "## EXPLORATORY DATA ANALYSIS & DATA CLEANING\n"
   ]
  },
  {
   "cell_type": "markdown",
   "metadata": {},
   "source": [
    "### face_similarity_df\n"
   ]
  },
  {
   "cell_type": "code",
   "execution_count": 183,
   "metadata": {},
   "outputs": [
    {
     "name": "stdout",
     "output_type": "stream",
     "text": [
      "Face Similarity Scores Dataset:\n",
      "      aid                                             scores\n",
      "0  100011  [{'score': 33.083734274066444, 'uid': '2511448'}]\n",
      "1  100024  [{'score': 73.56602733919276, 'uid': '9273160'...\n",
      "2  100034   [{'score': 67.92745925961077, 'uid': '9742638'}]\n",
      "3  100061  [{'score': 11.051541370588382, 'uid': '2889820'}]\n",
      "4  100064  [{'score': 56.86153192851338, 'uid': '2840104'...\n",
      "5  100067   [{'score': 38.52254162946638, 'uid': '7504366'}]\n",
      "6  100092  [{'score': 33.46952021255225, 'uid': '8701020'...\n",
      "7  100100   [{'score': 23.16163976811033, 'uid': '9562624'}]\n",
      "8  100108  [{'score': 32.96844755558086, 'uid': '8556356'...\n",
      "9  100143  [{'score': 19.71190083250225, 'uid': '1093781'...\n"
     ]
    }
   ],
   "source": [
    "print(\"Face Similarity Scores Dataset:\")\n",
    "print(face_similarity_df.head(10))"
   ]
  },
  {
   "cell_type": "code",
   "execution_count": 184,
   "metadata": {},
   "outputs": [
    {
     "name": "stdout",
     "output_type": "stream",
     "text": [
      "<class 'pandas.core.frame.DataFrame'>\n",
      "RangeIndex: 61041 entries, 0 to 61040\n",
      "Data columns (total 2 columns):\n",
      " #   Column  Non-Null Count  Dtype \n",
      "---  ------  --------------  ----- \n",
      " 0   aid     61041 non-null  object\n",
      " 1   scores  61041 non-null  object\n",
      "dtypes: object(2)\n",
      "memory usage: 953.9+ KB\n"
     ]
    }
   ],
   "source": [
    "face_similarity_df.info()"
   ]
  },
  {
   "cell_type": "code",
   "execution_count": 185,
   "metadata": {},
   "outputs": [
    {
     "data": {
      "text/plain": [
       "61041"
      ]
     },
     "execution_count": 185,
     "metadata": {},
     "output_type": "execute_result"
    }
   ],
   "source": [
    "face_similarity_df['aid'].nunique()"
   ]
  },
  {
   "cell_type": "markdown",
   "metadata": {},
   "source": []
  },
  {
   "cell_type": "code",
   "execution_count": null,
   "metadata": {},
   "outputs": [],
   "source": []
  },
  {
   "cell_type": "code",
   "execution_count": 186,
   "metadata": {},
   "outputs": [
    {
     "name": "stdout",
     "output_type": "stream",
     "text": [
      "Invalid scores found:\n",
      "          aid                                             scores\n",
      "3351   149608  [{'score': -42.224724157135604, 'uid': '330375...\n",
      "4349   163646  [{'score': -35.89220546350759, 'uid': '8204245'}]\n",
      "6277   191404  [{'score': -30.916917021199108, 'uid': '917615...\n",
      "6325   192131  [{'score': -35.79211532975565, 'uid': '5365173...\n",
      "6377   193130  [{'score': -39.70655965008533, 'uid': '9896916...\n",
      "8529   225415  [{'score': -42.99612051646848, 'uid': '2366966...\n",
      "8575   226104  [{'score': -14.294128732404348, 'uid': '644472...\n",
      "12621  285560  [{'score': -27.71511937368711, 'uid': '9681786...\n",
      "14367  311128  [{'score': -23.381783640096348, 'uid': '750912...\n",
      "15406  326908  [{'score': -31.856714451007726, 'uid': '564111...\n",
      "15728  331627  [{'score': -37.688446250913934, 'uid': '351143...\n",
      "15971  334935  [{'score': -26.26551696717177, 'uid': '7554012'}]\n",
      "16235  338507  [{'score': -22.761281183477475, 'uid': '606539...\n",
      "20284  400099  [{'score': -58.02054834755567, 'uid': '6245247'}]\n",
      "21110  412075  [{'score': -31.000207476143267, 'uid': '355300...\n",
      "27539  507123  [{'score': -23.613504958541824, 'uid': '432205...\n",
      "29638  538231  [{'score': -26.47703146865332, 'uid': '1778618'}]\n",
      "30575  551900  [{'score': -37.25741230686735, 'uid': '4311469'}]\n",
      "30890  556368  [{'score': -14.944478333570748, 'uid': '528232...\n",
      "32784  584110  [{'score': -34.270556679096195, 'uid': '724379...\n",
      "35742  626587   [{'score': -20.0699498653397, 'uid': '6784900'}]\n",
      "35953  630074  [{'score': -45.55181755012781, 'uid': '3041471...\n",
      "39568  682647  [{'score': -38.909915269082724, 'uid': '733516...\n",
      "41560  712520  [{'score': -49.53644593168672, 'uid': '4667665...\n",
      "43820  745183  [{'score': -27.75110888130925, 'uid': '9188149'}]\n",
      "43964  747472  [{'score': -29.953147828100402, 'uid': '172130...\n",
      "46071  778131  [{'score': -32.41494018064474, 'uid': '2103066...\n",
      "47101  793242  [{'score': -17.850187743054665, 'uid': '422672...\n",
      "48116  807739   [{'score': -49.9275780651104, 'uid': '6886892'}]\n",
      "49467  827203  [{'score': -59.587249318810535, 'uid': '926433...\n",
      "49762  831914   [{'score': -66.3891243770669, 'uid': '5222794'}]\n",
      "49947  834678  [{'score': -68.07724225873466, 'uid': '7158600...\n",
      "52787  878290  [{'score': -31.138139267415752, 'uid': '576220...\n"
     ]
    }
   ],
   "source": [
    "# Check for invalid values in the 'score' column\n",
    "invalid_scores = face_similarity_df[~face_similarity_df['scores'].apply(lambda x: 0 <= x[0]['score'] <= 100)]\n",
    "if not invalid_scores.empty:\n",
    "    print(\"Invalid scores found:\")\n",
    "    print(invalid_scores)\n"
   ]
  },
  {
   "cell_type": "code",
   "execution_count": 187,
   "metadata": {},
   "outputs": [],
   "source": [
    "\n",
    "# Drop rows with invalid scores\n",
    "face_similarity_df = face_similarity_df[face_similarity_df['scores'].apply(lambda x: 0 <= x[0]['score'] <= 100)]"
   ]
  },
  {
   "cell_type": "markdown",
   "metadata": {},
   "source": [
    "Lets construct a dataset of by merging 2 columns aid_uid by their scores from this dataset\n"
   ]
  },
  {
   "cell_type": "code",
   "execution_count": 188,
   "metadata": {},
   "outputs": [
    {
     "data": {
      "text/html": [
       "<div>\n",
       "<style scoped>\n",
       "    .dataframe tbody tr th:only-of-type {\n",
       "        vertical-align: middle;\n",
       "    }\n",
       "\n",
       "    .dataframe tbody tr th {\n",
       "        vertical-align: top;\n",
       "    }\n",
       "\n",
       "    .dataframe thead th {\n",
       "        text-align: right;\n",
       "    }\n",
       "</style>\n",
       "<table border=\"1\" class=\"dataframe\">\n",
       "  <thead>\n",
       "    <tr style=\"text-align: right;\">\n",
       "      <th></th>\n",
       "      <th>score</th>\n",
       "    </tr>\n",
       "  </thead>\n",
       "  <tbody>\n",
       "    <tr>\n",
       "      <th>count</th>\n",
       "      <td>61008.000000</td>\n",
       "    </tr>\n",
       "    <tr>\n",
       "      <th>mean</th>\n",
       "      <td>39.856554</td>\n",
       "    </tr>\n",
       "    <tr>\n",
       "      <th>std</th>\n",
       "      <td>19.145023</td>\n",
       "    </tr>\n",
       "    <tr>\n",
       "      <th>min</th>\n",
       "      <td>7.607163</td>\n",
       "    </tr>\n",
       "    <tr>\n",
       "      <th>25%</th>\n",
       "      <td>25.072947</td>\n",
       "    </tr>\n",
       "    <tr>\n",
       "      <th>50%</th>\n",
       "      <td>35.774061</td>\n",
       "    </tr>\n",
       "    <tr>\n",
       "      <th>75%</th>\n",
       "      <td>51.873504</td>\n",
       "    </tr>\n",
       "    <tr>\n",
       "      <th>max</th>\n",
       "      <td>100.000000</td>\n",
       "    </tr>\n",
       "  </tbody>\n",
       "</table>\n",
       "</div>"
      ],
      "text/plain": [
       "              score\n",
       "count  61008.000000\n",
       "mean      39.856554\n",
       "std       19.145023\n",
       "min        7.607163\n",
       "25%       25.072947\n",
       "50%       35.774061\n",
       "75%       51.873504\n",
       "max      100.000000"
      ]
     },
     "execution_count": 188,
     "metadata": {},
     "output_type": "execute_result"
    }
   ],
   "source": [
    "merge_face_df = pd.DataFrame()\n",
    "# Iterate over the rows of face_similarity_df\n",
    "merge_face_df['aid_uid'] = face_similarity_df.apply(lambda row: f\"{row['aid']}_{row['scores'][0]['uid']}\", axis=1)\n",
    "merge_face_df['score'] = face_similarity_df['scores'].apply(lambda x: x[0]['score'])\n",
    "\n",
    "merge_face_df.describe()\n"
   ]
  },
  {
   "cell_type": "markdown",
   "metadata": {},
   "source": [
    "### label_df\n"
   ]
  },
  {
   "cell_type": "code",
   "execution_count": 189,
   "metadata": {},
   "outputs": [
    {
     "name": "stdout",
     "output_type": "stream",
     "text": [
      "\n",
      "Label Dataset:\n",
      "      aid      uid  is_same_person\n",
      "0  758669  3808909               1\n",
      "1  933541  4049357               1\n",
      "2  312730  9915241               1\n",
      "3  620657  6569844               1\n",
      "4  925138  9504604               1\n",
      "5  668598  8017171               1\n",
      "6  854343  3917651               1\n",
      "7  719478  4315375               1\n",
      "8  176780  4250134               1\n",
      "9  455374  4189670               1\n"
     ]
    }
   ],
   "source": [
    "print(\"\\nLabel Dataset:\")\n",
    "print(label_df.head(10))"
   ]
  },
  {
   "cell_type": "code",
   "execution_count": 190,
   "metadata": {},
   "outputs": [
    {
     "data": {
      "text/plain": [
       "array([1, 0, 2, 3])"
      ]
     },
     "execution_count": 190,
     "metadata": {},
     "output_type": "execute_result"
    }
   ],
   "source": [
    "label_df['is_same_person'].unique()"
   ]
  },
  {
   "cell_type": "code",
   "execution_count": 191,
   "metadata": {},
   "outputs": [
    {
     "data": {
      "text/plain": [
       "500"
      ]
     },
     "execution_count": 191,
     "metadata": {},
     "output_type": "execute_result"
    }
   ],
   "source": [
    "label_df[label_df['is_same_person']==0]['aid'].count()"
   ]
  },
  {
   "cell_type": "code",
   "execution_count": 192,
   "metadata": {},
   "outputs": [
    {
     "data": {
      "text/plain": [
       "11988"
      ]
     },
     "execution_count": 192,
     "metadata": {},
     "output_type": "execute_result"
    }
   ],
   "source": [
    "label_df[label_df['is_same_person']==1]['aid'].count()"
   ]
  },
  {
   "cell_type": "code",
   "execution_count": 193,
   "metadata": {},
   "outputs": [
    {
     "data": {
      "text/plain": [
       "86914"
      ]
     },
     "execution_count": 193,
     "metadata": {},
     "output_type": "execute_result"
    }
   ],
   "source": [
    "label_df[label_df['is_same_person']==2]['aid'].count()"
   ]
  },
  {
   "cell_type": "code",
   "execution_count": 194,
   "metadata": {},
   "outputs": [
    {
     "name": "stdout",
     "output_type": "stream",
     "text": [
      "500 11988 86914 998\n"
     ]
    }
   ],
   "source": [
    "# Calculating counts based on different conditions\n",
    "count_3 = label_df[label_df['is_same_person'] == 3]['aid'].count()\n",
    "count_2 = label_df[label_df['is_same_person'] == 2]['aid'].count()\n",
    "count_1 = label_df[label_df['is_same_person'] == 1]['aid'].count()\n",
    "count_0 = label_df[label_df['is_same_person'] == 0]['aid'].count()\n",
    "print (count_0,count_1,count_2,count_3)"
   ]
  },
  {
   "cell_type": "code",
   "execution_count": 195,
   "metadata": {},
   "outputs": [
    {
     "data": {
      "image/png": "[encoded data removed]",
      "text/plain": [
       "<Figure size 640x480 with 1 Axes>"
      ]
     },
     "metadata": {},
     "output_type": "display_data"
    }
   ],
   "source": [
    "# Labels and counts\n",
    "labels = ['Unsure', 'Different persons', 'Same person', 'Data=0']\n",
    "counts = [count_3, count_2, count_1, count_0]\n",
    "\n",
    "# Create a bar chart\n",
    "plt.bar(labels, counts, color=['red', 'green', 'blue', 'orange'])\n",
    "\n",
    "# Add labels and title\n",
    "plt.xlabel('is_same_person')\n",
    "plt.ylabel('Count')\n",
    "plt.title('Counts based on is_same_person')\n",
    "\n",
    "# Show the plot\n",
    "plt.show()"
   ]
  },
  {
   "cell_type": "markdown",
   "metadata": {},
   "source": [
    "As we can't make sense of which category the unsure data and data = 0 data type belongs to. Lets remove them for now\n"
   ]
  },
  {
   "cell_type": "code",
   "execution_count": 196,
   "metadata": {},
   "outputs": [
    {
     "data": {
      "text/plain": [
       "array([1, 2])"
      ]
     },
     "execution_count": 196,
     "metadata": {},
     "output_type": "execute_result"
    }
   ],
   "source": [
    "label_df = label_df[((label_df['is_same_person']!=0)& (label_df['is_same_person']!=3))]\n",
    "label_df['is_same_person'].unique()"
   ]
  },
  {
   "cell_type": "code",
   "execution_count": 197,
   "metadata": {},
   "outputs": [
    {
     "name": "stdout",
     "output_type": "stream",
     "text": [
      "<class 'pandas.core.frame.DataFrame'>\n",
      "Index: 98902 entries, 0 to 98999\n",
      "Data columns (total 3 columns):\n",
      " #   Column          Non-Null Count  Dtype \n",
      "---  ------          --------------  ----- \n",
      " 0   aid             98902 non-null  object\n",
      " 1   uid             98902 non-null  object\n",
      " 2   is_same_person  98902 non-null  int32 \n",
      "dtypes: int32(1), object(2)\n",
      "memory usage: 2.6+ MB\n"
     ]
    }
   ],
   "source": [
    "label_df.info()"
   ]
  },
  {
   "cell_type": "code",
   "execution_count": 198,
   "metadata": {},
   "outputs": [
    {
     "data": {
      "text/plain": [
       "60668"
      ]
     },
     "execution_count": 198,
     "metadata": {},
     "output_type": "execute_result"
    }
   ],
   "source": [
    "label_df['aid'].nunique()"
   ]
  },
  {
   "cell_type": "code",
   "execution_count": 199,
   "metadata": {},
   "outputs": [
    {
     "data": {
      "text/plain": [
       "62681"
      ]
     },
     "execution_count": 199,
     "metadata": {},
     "output_type": "execute_result"
    }
   ],
   "source": [
    "label_df['uid'].nunique()"
   ]
  },
  {
   "cell_type": "code",
   "execution_count": 200,
   "metadata": {},
   "outputs": [
    {
     "data": {
      "text/html": [
       "<div>\n",
       "<style scoped>\n",
       "    .dataframe tbody tr th:only-of-type {\n",
       "        vertical-align: middle;\n",
       "    }\n",
       "\n",
       "    .dataframe tbody tr th {\n",
       "        vertical-align: top;\n",
       "    }\n",
       "\n",
       "    .dataframe thead th {\n",
       "        text-align: right;\n",
       "    }\n",
       "</style>\n",
       "<table border=\"1\" class=\"dataframe\">\n",
       "  <thead>\n",
       "    <tr style=\"text-align: right;\">\n",
       "      <th></th>\n",
       "      <th>aid</th>\n",
       "      <th>uid</th>\n",
       "      <th>is_same_person</th>\n",
       "      <th>aid_uid</th>\n",
       "    </tr>\n",
       "  </thead>\n",
       "  <tbody>\n",
       "    <tr>\n",
       "      <th>0</th>\n",
       "      <td>758669</td>\n",
       "      <td>3808909</td>\n",
       "      <td>1</td>\n",
       "      <td>758669_3808909</td>\n",
       "    </tr>\n",
       "    <tr>\n",
       "      <th>1</th>\n",
       "      <td>933541</td>\n",
       "      <td>4049357</td>\n",
       "      <td>1</td>\n",
       "      <td>933541_4049357</td>\n",
       "    </tr>\n",
       "    <tr>\n",
       "      <th>2</th>\n",
       "      <td>312730</td>\n",
       "      <td>9915241</td>\n",
       "      <td>1</td>\n",
       "      <td>312730_9915241</td>\n",
       "    </tr>\n",
       "    <tr>\n",
       "      <th>3</th>\n",
       "      <td>620657</td>\n",
       "      <td>6569844</td>\n",
       "      <td>1</td>\n",
       "      <td>620657_6569844</td>\n",
       "    </tr>\n",
       "    <tr>\n",
       "      <th>4</th>\n",
       "      <td>925138</td>\n",
       "      <td>9504604</td>\n",
       "      <td>1</td>\n",
       "      <td>925138_9504604</td>\n",
       "    </tr>\n",
       "    <tr>\n",
       "      <th>...</th>\n",
       "      <td>...</td>\n",
       "      <td>...</td>\n",
       "      <td>...</td>\n",
       "      <td>...</td>\n",
       "    </tr>\n",
       "    <tr>\n",
       "      <th>98995</th>\n",
       "      <td>783867</td>\n",
       "      <td>1052378</td>\n",
       "      <td>2</td>\n",
       "      <td>783867_1052378</td>\n",
       "    </tr>\n",
       "    <tr>\n",
       "      <th>98996</th>\n",
       "      <td>492499</td>\n",
       "      <td>1511656</td>\n",
       "      <td>2</td>\n",
       "      <td>492499_1511656</td>\n",
       "    </tr>\n",
       "    <tr>\n",
       "      <th>98997</th>\n",
       "      <td>579125</td>\n",
       "      <td>2733476</td>\n",
       "      <td>2</td>\n",
       "      <td>579125_2733476</td>\n",
       "    </tr>\n",
       "    <tr>\n",
       "      <th>98998</th>\n",
       "      <td>293917</td>\n",
       "      <td>2360186</td>\n",
       "      <td>2</td>\n",
       "      <td>293917_2360186</td>\n",
       "    </tr>\n",
       "    <tr>\n",
       "      <th>98999</th>\n",
       "      <td>105504</td>\n",
       "      <td>8836952</td>\n",
       "      <td>2</td>\n",
       "      <td>105504_8836952</td>\n",
       "    </tr>\n",
       "  </tbody>\n",
       "</table>\n",
       "<p>98902 rows × 4 columns</p>\n",
       "</div>"
      ],
      "text/plain": [
       "          aid      uid  is_same_person         aid_uid\n",
       "0      758669  3808909               1  758669_3808909\n",
       "1      933541  4049357               1  933541_4049357\n",
       "2      312730  9915241               1  312730_9915241\n",
       "3      620657  6569844               1  620657_6569844\n",
       "4      925138  9504604               1  925138_9504604\n",
       "...       ...      ...             ...             ...\n",
       "98995  783867  1052378               2  783867_1052378\n",
       "98996  492499  1511656               2  492499_1511656\n",
       "98997  579125  2733476               2  579125_2733476\n",
       "98998  293917  2360186               2  293917_2360186\n",
       "98999  105504  8836952               2  105504_8836952\n",
       "\n",
       "[98902 rows x 4 columns]"
      ]
     },
     "execution_count": 200,
     "metadata": {},
     "output_type": "execute_result"
    }
   ],
   "source": [
    "label_df['aid_uid'] = label_df[\"aid\"]+'_'+label_df[\"uid\"]\n",
    "label_df"
   ]
  },
  {
   "cell_type": "code",
   "execution_count": 201,
   "metadata": {},
   "outputs": [
    {
     "name": "stdout",
     "output_type": "stream",
     "text": [
      "Missing values in face_similarity_df:\n",
      "aid       0\n",
      "scores    0\n",
      "dtype: int64\n",
      "\n",
      "Missing values in label_df:\n",
      "aid    0\n",
      "uid    0\n",
      "dtype: int64\n"
     ]
    }
   ],
   "source": [
    "# Check for missing values in 'aid' and 'uid' columns of face_similarity_df\n",
    "missing_values_face_similarity = face_similarity_df[['aid', 'scores']].isnull().sum()\n",
    "print(\"Missing values in face_similarity_df:\")\n",
    "print(missing_values_face_similarity)\n",
    "\n",
    "# Check for missing values in 'aid' and 'uid' columns of label_df\n",
    "missing_values_label = label_df[['aid', 'uid']].isnull().sum()\n",
    "print(\"\\nMissing values in label_df:\")\n",
    "print(missing_values_label)"
   ]
  },
  {
   "cell_type": "markdown",
   "metadata": {},
   "source": [
    "### CONSTRUCTING DATASET\n"
   ]
  },
  {
   "cell_type": "code",
   "execution_count": 202,
   "metadata": {},
   "outputs": [
    {
     "data": {
      "text/html": [
       "<div>\n",
       "<style scoped>\n",
       "    .dataframe tbody tr th:only-of-type {\n",
       "        vertical-align: middle;\n",
       "    }\n",
       "\n",
       "    .dataframe tbody tr th {\n",
       "        vertical-align: top;\n",
       "    }\n",
       "\n",
       "    .dataframe thead th {\n",
       "        text-align: right;\n",
       "    }\n",
       "</style>\n",
       "<table border=\"1\" class=\"dataframe\">\n",
       "  <thead>\n",
       "    <tr style=\"text-align: right;\">\n",
       "      <th></th>\n",
       "      <th>aid_uid</th>\n",
       "      <th>score</th>\n",
       "      <th>aid</th>\n",
       "      <th>uid</th>\n",
       "      <th>is_same_person</th>\n",
       "    </tr>\n",
       "  </thead>\n",
       "  <tbody>\n",
       "    <tr>\n",
       "      <th>0</th>\n",
       "      <td>100011_2511448</td>\n",
       "      <td>33.083734</td>\n",
       "      <td>100011</td>\n",
       "      <td>2511448</td>\n",
       "      <td>2</td>\n",
       "    </tr>\n",
       "    <tr>\n",
       "      <th>1</th>\n",
       "      <td>100024_9273160</td>\n",
       "      <td>73.566027</td>\n",
       "      <td>100024</td>\n",
       "      <td>9273160</td>\n",
       "      <td>1</td>\n",
       "    </tr>\n",
       "    <tr>\n",
       "      <th>2</th>\n",
       "      <td>100034_9742638</td>\n",
       "      <td>67.927459</td>\n",
       "      <td>100034</td>\n",
       "      <td>9742638</td>\n",
       "      <td>2</td>\n",
       "    </tr>\n",
       "    <tr>\n",
       "      <th>3</th>\n",
       "      <td>100061_2889820</td>\n",
       "      <td>11.051541</td>\n",
       "      <td>100061</td>\n",
       "      <td>2889820</td>\n",
       "      <td>2</td>\n",
       "    </tr>\n",
       "    <tr>\n",
       "      <th>4</th>\n",
       "      <td>100064_2840104</td>\n",
       "      <td>56.861532</td>\n",
       "      <td>100064</td>\n",
       "      <td>2840104</td>\n",
       "      <td>2</td>\n",
       "    </tr>\n",
       "    <tr>\n",
       "      <th>...</th>\n",
       "      <td>...</td>\n",
       "      <td>...</td>\n",
       "      <td>...</td>\n",
       "      <td>...</td>\n",
       "      <td>...</td>\n",
       "    </tr>\n",
       "    <tr>\n",
       "      <th>60609</th>\n",
       "      <td>999967_8112139</td>\n",
       "      <td>65.727330</td>\n",
       "      <td>999967</td>\n",
       "      <td>8112139</td>\n",
       "      <td>1</td>\n",
       "    </tr>\n",
       "    <tr>\n",
       "      <th>60610</th>\n",
       "      <td>999971_9113682</td>\n",
       "      <td>27.641638</td>\n",
       "      <td>999971</td>\n",
       "      <td>9113682</td>\n",
       "      <td>2</td>\n",
       "    </tr>\n",
       "    <tr>\n",
       "      <th>60611</th>\n",
       "      <td>999981_8453447</td>\n",
       "      <td>78.738673</td>\n",
       "      <td>999981</td>\n",
       "      <td>8453447</td>\n",
       "      <td>1</td>\n",
       "    </tr>\n",
       "    <tr>\n",
       "      <th>60612</th>\n",
       "      <td>999984_6706605</td>\n",
       "      <td>18.122008</td>\n",
       "      <td>999984</td>\n",
       "      <td>6706605</td>\n",
       "      <td>2</td>\n",
       "    </tr>\n",
       "    <tr>\n",
       "      <th>60613</th>\n",
       "      <td>999993_5557999</td>\n",
       "      <td>14.739805</td>\n",
       "      <td>999993</td>\n",
       "      <td>5557999</td>\n",
       "      <td>2</td>\n",
       "    </tr>\n",
       "  </tbody>\n",
       "</table>\n",
       "<p>60614 rows × 5 columns</p>\n",
       "</div>"
      ],
      "text/plain": [
       "              aid_uid      score     aid      uid  is_same_person\n",
       "0      100011_2511448  33.083734  100011  2511448               2\n",
       "1      100024_9273160  73.566027  100024  9273160               1\n",
       "2      100034_9742638  67.927459  100034  9742638               2\n",
       "3      100061_2889820  11.051541  100061  2889820               2\n",
       "4      100064_2840104  56.861532  100064  2840104               2\n",
       "...               ...        ...     ...      ...             ...\n",
       "60609  999967_8112139  65.727330  999967  8112139               1\n",
       "60610  999971_9113682  27.641638  999971  9113682               2\n",
       "60611  999981_8453447  78.738673  999981  8453447               1\n",
       "60612  999984_6706605  18.122008  999984  6706605               2\n",
       "60613  999993_5557999  14.739805  999993  5557999               2\n",
       "\n",
       "[60614 rows x 5 columns]"
      ]
     },
     "execution_count": 202,
     "metadata": {},
     "output_type": "execute_result"
    }
   ],
   "source": [
    "merge_df = pd.merge(merge_face_df,label_df,on='aid_uid')\n",
    "merge_df.to_csv('merge_df.csv')\n",
    "merge_df"
   ]
  },
  {
   "cell_type": "markdown",
   "metadata": {},
   "source": [
    "### Distributions of the scores:\n"
   ]
  },
  {
   "cell_type": "markdown",
   "metadata": {},
   "source": [
    "Lets look at the corresponding face-similarity score whisker plot of these types of identification\n"
   ]
  },
  {
   "cell_type": "code",
   "execution_count": 203,
   "metadata": {},
   "outputs": [
    {
     "data": {
      "text/html": [
       "<div>\n",
       "<style scoped>\n",
       "    .dataframe tbody tr th:only-of-type {\n",
       "        vertical-align: middle;\n",
       "    }\n",
       "\n",
       "    .dataframe tbody tr th {\n",
       "        vertical-align: top;\n",
       "    }\n",
       "\n",
       "    .dataframe thead th {\n",
       "        text-align: right;\n",
       "    }\n",
       "</style>\n",
       "<table border=\"1\" class=\"dataframe\">\n",
       "  <thead>\n",
       "    <tr style=\"text-align: right;\">\n",
       "      <th></th>\n",
       "      <th>count</th>\n",
       "      <th>mean</th>\n",
       "      <th>std</th>\n",
       "      <th>min</th>\n",
       "      <th>25%</th>\n",
       "      <th>50%</th>\n",
       "      <th>75%</th>\n",
       "      <th>max</th>\n",
       "    </tr>\n",
       "    <tr>\n",
       "      <th>is_same_person</th>\n",
       "      <th></th>\n",
       "      <th></th>\n",
       "      <th></th>\n",
       "      <th></th>\n",
       "      <th></th>\n",
       "      <th></th>\n",
       "      <th></th>\n",
       "      <th></th>\n",
       "    </tr>\n",
       "  </thead>\n",
       "  <tbody>\n",
       "    <tr>\n",
       "      <th>1</th>\n",
       "      <td>11210.0</td>\n",
       "      <td>71.123212</td>\n",
       "      <td>6.659018</td>\n",
       "      <td>58.141988</td>\n",
       "      <td>65.926685</td>\n",
       "      <td>69.945772</td>\n",
       "      <td>75.236019</td>\n",
       "      <td>100.0</td>\n",
       "    </tr>\n",
       "    <tr>\n",
       "      <th>2</th>\n",
       "      <td>49404.0</td>\n",
       "      <td>32.694517</td>\n",
       "      <td>12.896990</td>\n",
       "      <td>7.607163</td>\n",
       "      <td>22.920263</td>\n",
       "      <td>31.767723</td>\n",
       "      <td>41.092739</td>\n",
       "      <td>100.0</td>\n",
       "    </tr>\n",
       "  </tbody>\n",
       "</table>\n",
       "</div>"
      ],
      "text/plain": [
       "                  count       mean        std        min        25%  \\\n",
       "is_same_person                                                        \n",
       "1               11210.0  71.123212   6.659018  58.141988  65.926685   \n",
       "2               49404.0  32.694517  12.896990   7.607163  22.920263   \n",
       "\n",
       "                      50%        75%    max  \n",
       "is_same_person                               \n",
       "1               69.945772  75.236019  100.0  \n",
       "2               31.767723  41.092739  100.0  "
      ]
     },
     "execution_count": 203,
     "metadata": {},
     "output_type": "execute_result"
    }
   ],
   "source": [
    "# Calculate summary statistics for each category\n",
    "summary_stats = merge_df.groupby('is_same_person')['score'].describe()\n",
    "summary_stats"
   ]
  },
  {
   "cell_type": "code",
   "execution_count": 204,
   "metadata": {},
   "outputs": [
    {
     "data": {
      "image/png": "[encoded data removed]",
      "text/plain": [
       "<Figure size 1000x600 with 1 Axes>"
      ]
     },
     "metadata": {},
     "output_type": "display_data"
    }
   ],
   "source": [
    "# Create the box plot\n",
    "plt.figure(figsize=(10, 6))\n",
    "sns.boxplot(x='is_same_person', y='score', data=merge_df)\n",
    "\n",
    "# Add labels and title\n",
    "plt.xlabel('is_same_person')\n",
    "plt.ylabel('Score')\n",
    "plt.title('Box plot of score categorized by is_same_person')\n",
    "\n",
    "# Show the plot\n",
    "plt.show()\n"
   ]
  },
  {
   "cell_type": "markdown",
   "metadata": {},
   "source": [
    "### Possible human errors in labeling:\n",
    "\n",
    "There are instances where the operator marked as 2 different person even when score 100 and same aid, uid. Lets remove them.\n"
   ]
  },
  {
   "cell_type": "code",
   "execution_count": 205,
   "metadata": {},
   "outputs": [
    {
     "data": {
      "text/html": [
       "<div>\n",
       "<style scoped>\n",
       "    .dataframe tbody tr th:only-of-type {\n",
       "        vertical-align: middle;\n",
       "    }\n",
       "\n",
       "    .dataframe tbody tr th {\n",
       "        vertical-align: top;\n",
       "    }\n",
       "\n",
       "    .dataframe thead th {\n",
       "        text-align: right;\n",
       "    }\n",
       "</style>\n",
       "<table border=\"1\" class=\"dataframe\">\n",
       "  <thead>\n",
       "    <tr style=\"text-align: right;\">\n",
       "      <th></th>\n",
       "      <th>aid_uid</th>\n",
       "      <th>score</th>\n",
       "      <th>aid</th>\n",
       "      <th>uid</th>\n",
       "      <th>is_same_person</th>\n",
       "    </tr>\n",
       "  </thead>\n",
       "  <tbody>\n",
       "    <tr>\n",
       "      <th>264</th>\n",
       "      <td>104113_104113</td>\n",
       "      <td>100.0</td>\n",
       "      <td>104113</td>\n",
       "      <td>104113</td>\n",
       "      <td>2</td>\n",
       "    </tr>\n",
       "    <tr>\n",
       "      <th>508</th>\n",
       "      <td>107740_107740</td>\n",
       "      <td>100.0</td>\n",
       "      <td>107740</td>\n",
       "      <td>107740</td>\n",
       "      <td>2</td>\n",
       "    </tr>\n",
       "    <tr>\n",
       "      <th>664</th>\n",
       "      <td>110169_110169</td>\n",
       "      <td>100.0</td>\n",
       "      <td>110169</td>\n",
       "      <td>110169</td>\n",
       "      <td>2</td>\n",
       "    </tr>\n",
       "    <tr>\n",
       "      <th>1622</th>\n",
       "      <td>124589_124589</td>\n",
       "      <td>100.0</td>\n",
       "      <td>124589</td>\n",
       "      <td>124589</td>\n",
       "      <td>2</td>\n",
       "    </tr>\n",
       "    <tr>\n",
       "      <th>1743</th>\n",
       "      <td>126315_126315</td>\n",
       "      <td>100.0</td>\n",
       "      <td>126315</td>\n",
       "      <td>126315</td>\n",
       "      <td>2</td>\n",
       "    </tr>\n",
       "    <tr>\n",
       "      <th>...</th>\n",
       "      <td>...</td>\n",
       "      <td>...</td>\n",
       "      <td>...</td>\n",
       "      <td>...</td>\n",
       "      <td>...</td>\n",
       "    </tr>\n",
       "    <tr>\n",
       "      <th>55876</th>\n",
       "      <td>929666_929666</td>\n",
       "      <td>100.0</td>\n",
       "      <td>929666</td>\n",
       "      <td>929666</td>\n",
       "      <td>2</td>\n",
       "    </tr>\n",
       "    <tr>\n",
       "      <th>55902</th>\n",
       "      <td>930084_930084</td>\n",
       "      <td>100.0</td>\n",
       "      <td>930084</td>\n",
       "      <td>930084</td>\n",
       "      <td>2</td>\n",
       "    </tr>\n",
       "    <tr>\n",
       "      <th>56168</th>\n",
       "      <td>933930_933930</td>\n",
       "      <td>100.0</td>\n",
       "      <td>933930</td>\n",
       "      <td>933930</td>\n",
       "      <td>2</td>\n",
       "    </tr>\n",
       "    <tr>\n",
       "      <th>60300</th>\n",
       "      <td>995056_995056</td>\n",
       "      <td>100.0</td>\n",
       "      <td>995056</td>\n",
       "      <td>995056</td>\n",
       "      <td>2</td>\n",
       "    </tr>\n",
       "    <tr>\n",
       "      <th>60315</th>\n",
       "      <td>995361_995361</td>\n",
       "      <td>100.0</td>\n",
       "      <td>995361</td>\n",
       "      <td>995361</td>\n",
       "      <td>2</td>\n",
       "    </tr>\n",
       "  </tbody>\n",
       "</table>\n",
       "<p>103 rows × 5 columns</p>\n",
       "</div>"
      ],
      "text/plain": [
       "             aid_uid  score     aid     uid  is_same_person\n",
       "264    104113_104113  100.0  104113  104113               2\n",
       "508    107740_107740  100.0  107740  107740               2\n",
       "664    110169_110169  100.0  110169  110169               2\n",
       "1622   124589_124589  100.0  124589  124589               2\n",
       "1743   126315_126315  100.0  126315  126315               2\n",
       "...              ...    ...     ...     ...             ...\n",
       "55876  929666_929666  100.0  929666  929666               2\n",
       "55902  930084_930084  100.0  930084  930084               2\n",
       "56168  933930_933930  100.0  933930  933930               2\n",
       "60300  995056_995056  100.0  995056  995056               2\n",
       "60315  995361_995361  100.0  995361  995361               2\n",
       "\n",
       "[103 rows x 5 columns]"
      ]
     },
     "execution_count": 205,
     "metadata": {},
     "output_type": "execute_result"
    }
   ],
   "source": [
    "diff_score = merge_df[((merge_df['score'] == 100) & (merge_df['is_same_person']==2))]\n",
    "diff_score"
   ]
  },
  {
   "cell_type": "code",
   "execution_count": 206,
   "metadata": {},
   "outputs": [
    {
     "data": {
      "text/html": [
       "<div>\n",
       "<style scoped>\n",
       "    .dataframe tbody tr th:only-of-type {\n",
       "        vertical-align: middle;\n",
       "    }\n",
       "\n",
       "    .dataframe tbody tr th {\n",
       "        vertical-align: top;\n",
       "    }\n",
       "\n",
       "    .dataframe thead th {\n",
       "        text-align: right;\n",
       "    }\n",
       "</style>\n",
       "<table border=\"1\" class=\"dataframe\">\n",
       "  <thead>\n",
       "    <tr style=\"text-align: right;\">\n",
       "      <th></th>\n",
       "      <th>aid_uid</th>\n",
       "      <th>score</th>\n",
       "      <th>aid</th>\n",
       "      <th>uid</th>\n",
       "      <th>is_same_person</th>\n",
       "    </tr>\n",
       "  </thead>\n",
       "  <tbody>\n",
       "    <tr>\n",
       "      <th>0</th>\n",
       "      <td>100011_2511448</td>\n",
       "      <td>33.083734</td>\n",
       "      <td>100011</td>\n",
       "      <td>2511448</td>\n",
       "      <td>2</td>\n",
       "    </tr>\n",
       "    <tr>\n",
       "      <th>1</th>\n",
       "      <td>100024_9273160</td>\n",
       "      <td>73.566027</td>\n",
       "      <td>100024</td>\n",
       "      <td>9273160</td>\n",
       "      <td>1</td>\n",
       "    </tr>\n",
       "    <tr>\n",
       "      <th>2</th>\n",
       "      <td>100034_9742638</td>\n",
       "      <td>67.927459</td>\n",
       "      <td>100034</td>\n",
       "      <td>9742638</td>\n",
       "      <td>2</td>\n",
       "    </tr>\n",
       "    <tr>\n",
       "      <th>3</th>\n",
       "      <td>100061_2889820</td>\n",
       "      <td>11.051541</td>\n",
       "      <td>100061</td>\n",
       "      <td>2889820</td>\n",
       "      <td>2</td>\n",
       "    </tr>\n",
       "    <tr>\n",
       "      <th>4</th>\n",
       "      <td>100064_2840104</td>\n",
       "      <td>56.861532</td>\n",
       "      <td>100064</td>\n",
       "      <td>2840104</td>\n",
       "      <td>2</td>\n",
       "    </tr>\n",
       "    <tr>\n",
       "      <th>...</th>\n",
       "      <td>...</td>\n",
       "      <td>...</td>\n",
       "      <td>...</td>\n",
       "      <td>...</td>\n",
       "      <td>...</td>\n",
       "    </tr>\n",
       "    <tr>\n",
       "      <th>60609</th>\n",
       "      <td>999967_8112139</td>\n",
       "      <td>65.727330</td>\n",
       "      <td>999967</td>\n",
       "      <td>8112139</td>\n",
       "      <td>1</td>\n",
       "    </tr>\n",
       "    <tr>\n",
       "      <th>60610</th>\n",
       "      <td>999971_9113682</td>\n",
       "      <td>27.641638</td>\n",
       "      <td>999971</td>\n",
       "      <td>9113682</td>\n",
       "      <td>2</td>\n",
       "    </tr>\n",
       "    <tr>\n",
       "      <th>60611</th>\n",
       "      <td>999981_8453447</td>\n",
       "      <td>78.738673</td>\n",
       "      <td>999981</td>\n",
       "      <td>8453447</td>\n",
       "      <td>1</td>\n",
       "    </tr>\n",
       "    <tr>\n",
       "      <th>60612</th>\n",
       "      <td>999984_6706605</td>\n",
       "      <td>18.122008</td>\n",
       "      <td>999984</td>\n",
       "      <td>6706605</td>\n",
       "      <td>2</td>\n",
       "    </tr>\n",
       "    <tr>\n",
       "      <th>60613</th>\n",
       "      <td>999993_5557999</td>\n",
       "      <td>14.739805</td>\n",
       "      <td>999993</td>\n",
       "      <td>5557999</td>\n",
       "      <td>2</td>\n",
       "    </tr>\n",
       "  </tbody>\n",
       "</table>\n",
       "<p>60511 rows × 5 columns</p>\n",
       "</div>"
      ],
      "text/plain": [
       "              aid_uid      score     aid      uid  is_same_person\n",
       "0      100011_2511448  33.083734  100011  2511448               2\n",
       "1      100024_9273160  73.566027  100024  9273160               1\n",
       "2      100034_9742638  67.927459  100034  9742638               2\n",
       "3      100061_2889820  11.051541  100061  2889820               2\n",
       "4      100064_2840104  56.861532  100064  2840104               2\n",
       "...               ...        ...     ...      ...             ...\n",
       "60609  999967_8112139  65.727330  999967  8112139               1\n",
       "60610  999971_9113682  27.641638  999971  9113682               2\n",
       "60611  999981_8453447  78.738673  999981  8453447               1\n",
       "60612  999984_6706605  18.122008  999984  6706605               2\n",
       "60613  999993_5557999  14.739805  999993  5557999               2\n",
       "\n",
       "[60511 rows x 5 columns]"
      ]
     },
     "execution_count": 206,
     "metadata": {},
     "output_type": "execute_result"
    }
   ],
   "source": [
    "merge_df = merge_df[~((merge_df['score'] == 100) & (merge_df['is_same_person']==2))]\n",
    "merge_df"
   ]
  },
  {
   "cell_type": "markdown",
   "metadata": {},
   "source": [
    "### Choosing an optimal threshold:\n"
   ]
  },
  {
   "cell_type": "markdown",
   "metadata": {},
   "source": [
    "Lets use the 1st percentile of category 1 as a test\n"
   ]
  },
  {
   "cell_type": "code",
   "execution_count": 213,
   "metadata": {},
   "outputs": [
    {
     "name": "stdout",
     "output_type": "stream",
     "text": [
      "Confusion Model Table:\n",
      "conf\n",
      "TN    49030\n",
      "TP     8408\n",
      "FN     2802\n",
      "FP      271\n",
      "Name: count, dtype: int64\n"
     ]
    },
    {
     "name": "stderr",
     "output_type": "stream",
     "text": [
      "C:\\Users\\qtranhu\\AppData\\Local\\Temp\\ipykernel_26524\\2033624318.py:4: SettingWithCopyWarning: \n",
      "A value is trying to be set on a copy of a slice from a DataFrame.\n",
      "Try using .loc[row_indexer,col_indexer] = value instead\n",
      "\n",
      "See the caveats in the documentation: https://pandas.pydata.org/pandas-docs/stable/user_guide/indexing.html#returning-a-view-versus-a-copy\n",
      "  df['is_same_person_sim'] = df['score'].apply(lambda x: 1 if x >= threshold else 2)\n",
      "C:\\Users\\qtranhu\\AppData\\Local\\Temp\\ipykernel_26524\\2033624318.py:7: SettingWithCopyWarning: \n",
      "A value is trying to be set on a copy of a slice from a DataFrame.\n",
      "Try using .loc[row_indexer,col_indexer] = value instead\n",
      "\n",
      "See the caveats in the documentation: https://pandas.pydata.org/pandas-docs/stable/user_guide/indexing.html#returning-a-view-versus-a-copy\n",
      "  df['conf'] = 'TN'  # Default value for True Negative\n"
     ]
    }
   ],
   "source": [
    "def confusion_table(df,threshold):\n",
    "\n",
    "    # Create a new column based on the threshold\n",
    "    df['is_same_person_sim'] = df['score'].apply(lambda x: 1 if x >= threshold else 2)\n",
    "\n",
    "    # Create a new column 'conf' based on the classification\n",
    "    df['conf'] = 'TN'  # Default value for True Negative\n",
    "\n",
    "    # Update 'conf' based on classification\n",
    "    df.loc[(df['is_same_person_sim'] == 1) & (df['is_same_person'] == 1), 'conf'] = 'TP'  # True Positive\n",
    "    df.loc[(df['is_same_person_sim'] == 2) & (df['is_same_person'] == 1), 'conf'] = 'FN'  # False Negative\n",
    "    df.loc[(df['is_same_person_sim'] == 1) & (df['is_same_person'] == 2), 'conf'] = 'FP'  # False Positive\n",
    "\n",
    "    # Count the values in the 'conf' column\n",
    "    conf_counts = df['conf'].value_counts()\n",
    "\n",
    "    # Print the confusion model table\n",
    "    print(\"Confusion Model Table:\")\n",
    "    print(conf_counts)\n",
    "\n",
    "\n",
    "confusion_table(merge_df,65.925887)"
   ]
  },
  {
   "cell_type": "code",
   "execution_count": 214,
   "metadata": {},
   "outputs": [],
   "source": [
    "#define functions to judge the threshold \n",
    "def cal_precision(df):\n",
    "    tp = df[(df['is_same_person_sim'] == 1) & (df['is_same_person'] == 1)]['conf'].count()\n",
    "    fp = df[(df['is_same_person_sim'] == 1) & (df['is_same_person'] != 1)]['conf'].count()\n",
    "    return tp/(fp+tp)\n",
    "\n",
    "def cal_recall(df):\n",
    "    tp = df[(df['is_same_person_sim'] == 1) & (df['is_same_person'] == 1)]['conf'].count()\n",
    "    positive = df[(df['is_same_person'] == 1)]['conf'].count()\n",
    "    return tp/positive"
   ]
  },
  {
   "cell_type": "code",
   "execution_count": 215,
   "metadata": {},
   "outputs": [
    {
     "name": "stdout",
     "output_type": "stream",
     "text": [
      "Here we got a precision score of 96.87752045166494%, and a recall of 75.00446030330062%\n"
     ]
    }
   ],
   "source": [
    "precision = cal_precision(merge_df)\n",
    "recall = cal_recall(merge_df)\n",
    "print(f'Here we got a precision score of {precision*100}%, and a recall of {recall*100}%')"
   ]
  },
  {
   "cell_type": "markdown",
   "metadata": {},
   "source": [
    "Lets reduce the number of false positive by defining a threshold, i.e maximum score where the operator classified as 2 but the system return 1. Lets try that out\n"
   ]
  },
  {
   "cell_type": "code",
   "execution_count": 216,
   "metadata": {},
   "outputs": [
    {
     "data": {
      "text/plain": [
       "73.72482662759145"
      ]
     },
     "execution_count": 216,
     "metadata": {},
     "output_type": "execute_result"
    }
   ],
   "source": [
    "threshold2 = merge_df[((merge_df['is_same_person']==2)&(merge_df['is_same_person_sim']==1))]['score'].max()\n",
    "threshold2"
   ]
  },
  {
   "cell_type": "code",
   "execution_count": 217,
   "metadata": {},
   "outputs": [
    {
     "name": "stdout",
     "output_type": "stream",
     "text": [
      "Confusion Model Table:\n",
      "conf\n",
      "TN    49300\n",
      "FN     7682\n",
      "TP     3528\n",
      "FP        1\n",
      "Name: count, dtype: int64\n"
     ]
    },
    {
     "name": "stderr",
     "output_type": "stream",
     "text": [
      "C:\\Users\\qtranhu\\AppData\\Local\\Temp\\ipykernel_26524\\2033624318.py:4: SettingWithCopyWarning: \n",
      "A value is trying to be set on a copy of a slice from a DataFrame.\n",
      "Try using .loc[row_indexer,col_indexer] = value instead\n",
      "\n",
      "See the caveats in the documentation: https://pandas.pydata.org/pandas-docs/stable/user_guide/indexing.html#returning-a-view-versus-a-copy\n",
      "  df['is_same_person_sim'] = df['score'].apply(lambda x: 1 if x >= threshold else 2)\n",
      "C:\\Users\\qtranhu\\AppData\\Local\\Temp\\ipykernel_26524\\2033624318.py:7: SettingWithCopyWarning: \n",
      "A value is trying to be set on a copy of a slice from a DataFrame.\n",
      "Try using .loc[row_indexer,col_indexer] = value instead\n",
      "\n",
      "See the caveats in the documentation: https://pandas.pydata.org/pandas-docs/stable/user_guide/indexing.html#returning-a-view-versus-a-copy\n",
      "  df['conf'] = 'TN'  # Default value for True Negative\n"
     ]
    }
   ],
   "source": [
    "confusion_table(merge_df,threshold2)"
   ]
  },
  {
   "cell_type": "code",
   "execution_count": 218,
   "metadata": {},
   "outputs": [
    {
     "name": "stdout",
     "output_type": "stream",
     "text": [
      "Here we got a precision score of 99.97166336072542%, and a recall of 31.471900089206066%\n"
     ]
    }
   ],
   "source": [
    "precision = cal_precision(merge_df)\n",
    "recall = cal_recall(merge_df)\n",
    "print(f'Here we got a precision score of {precision*100}%, and a recall of {recall*100}%')"
   ]
  },
  {
   "cell_type": "markdown",
   "metadata": {},
   "source": [
    "## Conclusion\n"
   ]
  },
  {
   "cell_type": "markdown",
   "metadata": {},
   "source": [
    "We sacrifices the recall rate by a great deal (from 75% to 31%) to maximize our precision (from 97% to 99.9%). Meaning 99.9% of the time the model will be right if it says that they are the same person (as confirmed by the operator), however, it will only get 31 out of 100 instances that are actually the same person.\n",
    "We neglected the uncategorized labelling - 0, and unsure label type by the operator, this should have been further discussed on a proper approach to deal with\n"
   ]
  }
 ],
 "metadata": {
  "kernelspec": {
   "display_name": "Python 3",
   "language": "python",
   "name": "python3"
  },
  "language_info": {
   "codemirror_mode": {
    "name": "ipython",
    "version": 3
   },
   "file_extension": ".py",
   "mimetype": "text/x-python",
   "name": "python",
   "nbconvert_exporter": "python",
   "pygments_lexer": "ipython3",
   "version": "3.11.8"
  }
 },
 "nbformat": 4,
 "nbformat_minor": 2
}
